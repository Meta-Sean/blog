{
 "cells": [
  {
   "cell_type": "markdown",
   "metadata": {},
   "source": [
    "---\n",
    "title: \"Machine Learner 📚\"\n",
    "author: \"Terps\"\n",
    "date: \"2023-12-10\"\n",
    "categories: [jupyter]\n",
    "theme: minty\n",
    "image: \"image.jpg\"\n",
    "highlight-style: atom-one\n",
    "---"
   ]
  },
  {
   "cell_type": "markdown",
   "metadata": {},
   "source": [
    "> A collection of resources I found helpful in my programming/ML journey. Will try to continue to update and add better descriptions as time goes on.  "
   ]
  },
  {
   "cell_type": "markdown",
   "metadata": {},
   "source": [
    "## Online Courses\n",
    "\n",
    "- **[Practical Deep Learning](https://course.fast.ai/)**\n",
    "  - Starting off strong, Jeremy Howard is an incredible educator and I can't recommend this course enough. Not only the is the course material great, but the overall approach to learning/meta-learning is fantastic. \n",
    "  \n",
    "- **[Google Advanced Data Analytics Professional Certificate](https://www.coursera.org/professional-certificates/google-advanced-data-analytics)**\n",
    "  - Google doesn't miss on quality, this course takes you zero to one in data science. From foundations to more advanced ML applications, this course will really help you drive home key concepts in an approachable way. \n",
    "\n",
    "- **[Hugging Face Courses](https://huggingface.co/learn)**\n",
    "  - Three courses covering NLP, Deep RL, and Audio. Great way to break the cold start problem and get hacking on deep learning.\n",
    "\n",
    "- **[Missing Semester](https://missing.csail.mit.edu/)**\n",
    "  - MIT course covering all the tools a program can expect to use and master in the field from the shell, editors, data wrangling, cli, git, debugging, profiling, metaprogramming, security, and cryptography.  \n",
    "\n"
   ]
  },
  {
   "cell_type": "markdown",
   "metadata": {},
   "source": [
    "## Websites and Blogs\n",
    "\n",
    "- **[Kaggle](https://www.kaggle.com/learn)**\n",
    "  - Kaggle is not only the premier platform for data science competition, but also has a good library of exercises to brush up on skills.\n",
    " \n",
    "\n",
    "- **[LLM Visualization](https://bbycroft.net/llm)**\n",
    "  - Awesome visualization and walkthrough of a GPT LLM. \n",
    "  \n",
    "- **[The Novice's LLM Training Guide](https://rentry.org/llm-training)**\n",
    "  - Get up to speed on fine-tuning LLMs.\n",
    "\n",
    "\n"
   ]
  },
  {
   "cell_type": "markdown",
   "metadata": {},
   "source": [
    "## Tools and Frameworks\n",
    "\n",
    "- **[ChatGPT or any LLM assistant](https://chat.openai.com/)**\n",
    "  - The amount of value you can get out of modern LLMs is staggering, I don't even know where to begin, it gives the novice so much leverage. I recommend using it to augment your learning and work not replacing it, really grok its outputs. Using voice chat to have one on one conversations about topics I'm learning really helps reinforce concepts I'm trying to learn. \n",
    "  \n",
    "- **[Zotero](https://www.zotero.org/)**\n",
    "  - I use Zotero to keep track of research papers that I'm reading or plan to read. Its super handy and allows me to read PDFs on my ipad. \n",
    "\n",
    "\n"
   ]
  },
  {
   "cell_type": "markdown",
   "metadata": {},
   "source": [
    "---\n",
    "\n",
    "*Thank you for reading my blog! Much more to come soon. Feel free to connect with me on [Twitter](twitter.com/terpsfi).*\n"
   ]
  },
  {
   "cell_type": "markdown",
   "metadata": {},
   "source": []
  }
 ],
 "metadata": {
  "kernelspec": {
   "display_name": "fastai",
   "language": "python",
   "name": "fastai"
  },
  "language_info": {
   "codemirror_mode": {
    "name": "ipython",
    "version": 3
   },
   "file_extension": ".py",
   "mimetype": "text/x-python",
   "name": "python",
   "nbconvert_exporter": "python",
   "pygments_lexer": "ipython3",
   "version": "3.10.12"
  }
 },
 "nbformat": 4,
 "nbformat_minor": 2
}
