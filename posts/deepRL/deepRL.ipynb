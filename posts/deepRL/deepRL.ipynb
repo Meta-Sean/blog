{
 "cells": [
  {
   "cell_type": "markdown",
   "metadata": {},
   "source": [
    "---\n",
    "title: \"Deep RL 🤖\"\n",
    "author: \"Terps\"\n",
    "date: \"2023-09-19\"\n",
    "categories: [jupyter, RL]\n",
    "theme: minty\n",
    "image: \"image.jpg\"\n",
    "highlight-style: atom-one\n",
    "draft: True\n",
    "---"
   ]
  },
  {
   "cell_type": "markdown",
   "metadata": {},
   "source": [
    "HuggingFace released an awesome course, Deep Reinforcement Learning, by Thomas Simonini. It's a great overview of topics in RL; with lots of hands on training and publishing RL models to the huggingface hub. Covering Deep Q-Learning, Proximal Policy Optimization, Actor Critic Methods, and Hyperparameter tuning. Its a great starting place for anyone looking to get some practical RL experience. I wanted to share some of the models I built in this course.  "
   ]
  },
  {
   "cell_type": "markdown",
   "metadata": {},
   "source": []
  }
 ],
 "metadata": {
  "kernelspec": {
   "display_name": "fastai",
   "language": "python",
   "name": "fastai"
  },
  "language_info": {
   "codemirror_mode": {
    "name": "ipython",
    "version": 3
   },
   "file_extension": ".py",
   "mimetype": "text/x-python",
   "name": "python",
   "nbconvert_exporter": "python",
   "pygments_lexer": "ipython3",
   "version": "3.10.4"
  },
  "orig_nbformat": 4
 },
 "nbformat": 4,
 "nbformat_minor": 2
}
